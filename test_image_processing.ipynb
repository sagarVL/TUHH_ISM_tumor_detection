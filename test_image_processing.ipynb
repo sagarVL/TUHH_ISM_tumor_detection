{
 "metadata": {
  "language_info": {
   "codemirror_mode": {
    "name": "ipython",
    "version": 3
   },
   "file_extension": ".py",
   "mimetype": "text/x-python",
   "name": "python",
   "nbconvert_exporter": "python",
   "pygments_lexer": "ipython3",
   "version": "3.8.3-final"
  },
  "orig_nbformat": 2,
  "kernelspec": {
   "name": "python3",
   "display_name": "Python 3.8.3 64-bit ('.env')",
   "metadata": {
    "interpreter": {
     "hash": "de9043e23c28092d3a822e590377729968346e7c6cb8c2cb39ed5981bb97b7d3"
    }
   }
  }
 },
 "nbformat": 4,
 "nbformat_minor": 2,
 "cells": [
  {
   "cell_type": "code",
   "execution_count": 1,
   "metadata": {},
   "outputs": [],
   "source": [
    "import cv2\n",
    "import datetime\n",
    "import numpy as np\n",
    "from image_preprocessor import hair_removal, create_circular_mask, change_contrast, k_means_segementation"
   ]
  },
  {
   "cell_type": "code",
   "execution_count": 2,
   "metadata": {},
   "outputs": [],
   "source": [
    "image = cv2.imread('C:/Users/vlsag/Desktop/Mechatronics TUHH/5th sem/ISM_code/ISIC_2019_Training_Input/ISIC_2019_Training_Input/ISIC_0000347.jpg')\n",
    "cv2.imshow('Orignal', image)\n",
    "cv2.waitKey(0)\n",
    "cv2.destroyAllWindows()"
   ]
  },
  {
   "cell_type": "code",
   "execution_count": 4,
   "metadata": {},
   "outputs": [],
   "source": [
    "image = 'C:/Users/vlsag/Desktop/Mechatronics TUHH/5th sem/ISM_code/ISIC_2019_Training_Input/ISIC_2019_Training_Input/ISIC_0000347.jpg'\n",
    "cv2.imshow('Incresed Contrast',change_contrast(image, cliplimit=5))\n",
    "cv2.waitKey(0)\n",
    "cv2.destroyAllWindows()"
   ]
  },
  {
   "cell_type": "code",
   "execution_count": 5,
   "metadata": {},
   "outputs": [],
   "source": [
    "image = cv2.imread('C:/Users/vlsag/Desktop/Mechatronics TUHH/5th sem/ISM_code/ISIC_2019_Training_Input/ISIC_2019_Training_Input/ISIC_0000229.jpg')\n",
    "cv2.imshow('Orignal', image)\n",
    "cv2.waitKey(0)\n",
    "cv2.destroyAllWindows()"
   ]
  },
  {
   "cell_type": "code",
   "execution_count": 4,
   "metadata": {},
   "outputs": [
    {
     "output_type": "error",
     "ename": "NameError",
     "evalue": "name 'inpaint_radius' is not defined",
     "traceback": [
      "\u001b[1;31m---------------------------------------------------------------------------\u001b[0m",
      "\u001b[1;31mNameError\u001b[0m                                 Traceback (most recent call last)",
      "\u001b[1;32m<ipython-input-4-f4bd699f83f7>\u001b[0m in \u001b[0;36m<module>\u001b[1;34m\u001b[0m\n\u001b[0;32m     13\u001b[0m \u001b[0mcv2\u001b[0m\u001b[1;33m.\u001b[0m\u001b[0mimshow\u001b[0m\u001b[1;33m(\u001b[0m\u001b[1;34m'Thresh'\u001b[0m\u001b[1;33m,\u001b[0m \u001b[0mthresh2\u001b[0m\u001b[1;33m)\u001b[0m\u001b[1;33m\u001b[0m\u001b[1;33m\u001b[0m\u001b[0m\n\u001b[0;32m     14\u001b[0m \u001b[0mcv2\u001b[0m\u001b[1;33m.\u001b[0m\u001b[0mwaitKey\u001b[0m\u001b[1;33m(\u001b[0m\u001b[1;36m0\u001b[0m\u001b[1;33m)\u001b[0m\u001b[1;33m\u001b[0m\u001b[1;33m\u001b[0m\u001b[0m\n\u001b[1;32m---> 15\u001b[1;33m dst = cv2.inpaint(im, thresh2, inpaintRadius=inpaint_radius,\n\u001b[0m\u001b[0;32m     16\u001b[0m                       flags=cv2.INPAINT_TELEA)\n\u001b[0;32m     17\u001b[0m \u001b[0mcv2\u001b[0m\u001b[1;33m.\u001b[0m\u001b[0mimshow\u001b[0m\u001b[1;33m(\u001b[0m\u001b[1;34m'Hair removed'\u001b[0m\u001b[1;33m,\u001b[0m \u001b[0mdst\u001b[0m\u001b[1;33m)\u001b[0m\u001b[1;33m\u001b[0m\u001b[1;33m\u001b[0m\u001b[0m\n",
      "\u001b[1;31mNameError\u001b[0m: name 'inpaint_radius' is not defined"
     ]
    }
   ],
   "source": [
    "image = 'C:/Users/vlsag/Desktop/Mechatronics TUHH/5th sem/ISM_code/ISIC_2019_Training_Input/ISIC_2019_Training_Input/ISIC_0000229.jpg'\n",
    "im = cv2.imread(image)\n",
    "cv2.imshow('Orignal', im)\n",
    "cv2.waitKey(0)\n",
    "grayScale = cv2.imread(image, cv2.IMREAD_GRAYSCALE)\n",
    "# Get kernel for Morphological Transformation\n",
    "kernel = cv2.getStructuringElement(1, (17, 17))\n",
    "# Perform black-hat transformation\n",
    "blackhat = cv2.morphologyEx(grayScale, cv2.MORPH_BLACKHAT, kernel)\n",
    "cv2.imshow('Black Hat', blackhat)\n",
    "cv2.waitKey(0)\n",
    "ret, thresh2 = cv2.threshold(blackhat, 10, 255, cv2.THRESH_BINARY)\n",
    "cv2.imshow('Thresh', thresh2)\n",
    "cv2.waitKey(0)\n",
    "dst = cv2.inpaint(im, thresh2, inpaintRadius=40,\n",
    "                      flags=cv2.INPAINT_TELEA)\n",
    "cv2.imshow('Hair removed', dst)\n",
    "cv2.waitKey(0)\n",
    "cv2.destroyAllWindows()"
   ]
  },
  {
   "cell_type": "code",
   "execution_count": null,
   "metadata": {},
   "outputs": [],
   "source": [
    "image = cv2.imread('C:/Users/vlsag/Desktop/Mechatronics TUHH/5th sem/ISM_code/ISIC_2019_Training_Input/ISIC_2019_Training_Input/ISIC_0026126.jpg')\n",
    "cv2.imshow('Orignal', image)\n",
    "cv2.waitKey(0)\n",
    "cv2.destroyAllWindows()"
   ]
  },
  {
   "cell_type": "code",
   "execution_count": 5,
   "metadata": {},
   "outputs": [
    {
     "output_type": "stream",
     "name": "stdout",
     "text": [
      "0:00:00.336527\n"
     ]
    }
   ],
   "source": [
    "image = 'C:/Users/vlsag/Desktop/Mechatronics TUHH/5th sem/ISM_code/ISIC_2019_Training_Input/ISIC_2019_Training_Input/ISIC_0026126.jpg'\n",
    "time = datetime.datetime.now()\n",
    "segmented_image,segmented_data = k_means_segementation(image,10)\n",
    "cv2.imshow('Segemented', segmented_image)\n",
    "time_end = datetime.datetime.now()\n",
    "print(time_end - time)\n",
    "cv2.waitKey(0)\n",
    "cv2.destroyAllWindows()"
   ]
  },
  {
   "cell_type": "code",
   "execution_count": null,
   "metadata": {},
   "outputs": [],
   "source": [
    "image = cv2.imread('C:/Users/vlsag/Desktop/Mechatronics TUHH/5th sem/ISM_code/ISIC_2019_Training_Input/ISIC_2019_Training_Input/ISIC_0000281.jpg')\n",
    "cv2.imshow('Orignal', image)\n",
    "cv2.waitKey(0)\n",
    "cv2.destroyAllWindows()"
   ]
  },
  {
   "cell_type": "code",
   "execution_count": null,
   "metadata": {},
   "outputs": [],
   "source": [
    "image = 'C:/Users/vlsag/Desktop/Mechatronics TUHH/5th sem/ISM_code/ISIC_2019_Training_Input/ISIC_2019_Training_Input/ISIC_0000281.jpg'\n",
    "cv2.imshow('Hair Removed', create_circular_mask(image))\n",
    "cv2.waitKey(0)\n",
    "cv2.destroyAllWindows()"
   ]
  },
  {
   "cell_type": "code",
   "execution_count": null,
   "metadata": {},
   "outputs": [],
   "source": []
  }
 ]
}